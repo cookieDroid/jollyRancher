{
  "cells": [
    {
      "cell_type": "markdown",
      "metadata": {
        "id": "view-in-github",
        "colab_type": "text"
      },
      "source": [
        "<a href=\"https://colab.research.google.com/github/cookieDroid/jollyRancher/blob/main/main.ipynb\" target=\"_parent\"><img src=\"https://colab.research.google.com/assets/colab-badge.svg\" alt=\"Open In Colab\"/></a>"
      ]
    },
    {
      "cell_type": "markdown",
      "metadata": {
        "id": "aQuWDmfm9YOi"
      },
      "source": [
        "# Torrent To Google Drive Downloader"
      ]
    },
    {
      "cell_type": "markdown",
      "metadata": {
        "id": "FexiyATtNwTG"
      },
      "source": [
        "###Dependency\n",
        "Install the python dependencies"
      ]
    },
    {
      "cell_type": "code",
      "execution_count": null,
      "metadata": {
        "id": "m6hF0emftx4h"
      },
      "outputs": [],
      "source": [
        "#@title\n",
        "!apt install python-libtorrent\n",
        "!python -m pip install --upgrade pip setuptools wheel\n",
        "!python -m pip install lbry-libtorrent\n",
        "import ipywidgets as widgets\n",
        "from google.colab import drive\n",
        "import libtorrent as lt\n",
        "import time\n",
        "import datetime\n",
        "import ipywidgets as widgets\n",
        "from ipywidgets import interact, interact_manual, ToggleButton\n",
        "from ipywidgets import RadioButtons as rd\n",
        "from IPython.display import display"
      ]
    },
    {
      "cell_type": "markdown",
      "metadata": {
        "id": "Uf90U73y9YOj"
      },
      "source": [
        "### Mount Google Drive\n",
        "To stream files we need to mount Google Drive and after downloading select unmount google drive"
      ]
    },
    {
      "cell_type": "code",
      "execution_count": null,
      "metadata": {
        "id": "oWM9l2fvtuvO"
      },
      "outputs": [],
      "source": [
        "Mode = rd(options=['MOUNT', 'UNMOUNT'],value='MOUNT', description='Drive Mount :',disabled=False)\n",
        "display(Mode)"
      ]
    },
    {
      "cell_type": "code",
      "source": [
        "MODE = Mode.value\n",
        "drive.mount._DEBUG = False\n",
        "if MODE == \"MOUNT\":\n",
        "  drive.mount('/content/drive', force_remount=True)\n",
        "  print(\"Mounted\")\n",
        "elif MODE == \"UNMOUNT\":\n",
        "  try:\n",
        "    drive.flush_and_unmount()\n",
        "    print(\"Unmounted\")\n",
        "  except ValueError:\n",
        "    pass\n",
        "  get_ipython().system_raw(\"rm -rf /root/.config/Google/DriveFS\")"
      ],
      "metadata": {
        "id": "7Mx1DRdvuZI0"
      },
      "execution_count": null,
      "outputs": []
    },
    {
      "cell_type": "markdown",
      "source": [
        "### Set the location to download. If you have shared drive select it and enter the name"
      ],
      "metadata": {
        "id": "BHb3bKXG-SGh"
      }
    },
    {
      "cell_type": "code",
      "source": [
        "Location = rd(options=['My Drive', 'Shared Drive'], description='Drive type :',disabled=False)\n",
        "display(Location)"
      ],
      "metadata": {
        "id": "s5iOLzdCwJgq"
      },
      "execution_count": null,
      "outputs": []
    },
    {
      "cell_type": "code",
      "source": [
        "location = Location.value\n",
        "print(location)\n",
        "if location == \"Shared Drive\":\n",
        "  sharedDriveName = input(\"Enter Shared Drive Name : \")\n",
        "  filepath='/content/drive/Shared drives/'+sharedDriveName+'/Torrent/'\n",
        "else:\n",
        "  filepath='/content/drive/My Drive/Torrent/'\n",
        "print(filepath)"
      ],
      "metadata": {
        "id": "096rY8lGPSCn"
      },
      "execution_count": null,
      "outputs": []
    },
    {
      "cell_type": "markdown",
      "metadata": {
        "id": "tqKcWHZcYRIA"
      },
      "source": [
        "### Initiate torrent client app\n"
      ]
    },
    {
      "cell_type": "code",
      "source": [
        "#@title\n",
        "ses = lt.session()\n",
        "ses.listen_on(6881, 6891)\n",
        "params = {\n",
        "    'save_path': filepath,\n",
        "    'storage_mode': lt.storage_mode_t(2),\n",
        "    }"
      ],
      "metadata": {
        "id": "c2E_hCPcZMvH"
      },
      "execution_count": null,
      "outputs": []
    },
    {
      "cell_type": "markdown",
      "source": [
        "### Enter the magnet/torrent link or upload torrent file"
      ],
      "metadata": {
        "id": "9oF9GAMVfmBp"
      }
    },
    {
      "cell_type": "code",
      "source": [
        "linkType = rd(options=['Link', 'Torrent File'],value='Link', description='Torrent type :',disabled=False)\n",
        "display(linkType)"
      ],
      "metadata": {
        "id": "DFP3VzIlCs2a"
      },
      "execution_count": null,
      "outputs": []
    },
    {
      "cell_type": "code",
      "source": [
        "if(linkType.value==\"Link\"):\n",
        "  link=input(\"Enter the Link\")\n",
        "else:\n",
        "  link=widgets.FileUpload(accept='.torrent', multiple=False)\n",
        "  display(link)\n"
      ],
      "metadata": {
        "id": "_KUrCFk457ep"
      },
      "execution_count": null,
      "outputs": []
    },
    {
      "cell_type": "markdown",
      "source": [
        "### Process the torrent file and download metadata"
      ],
      "metadata": {
        "id": "igoezTEXgJpK"
      }
    },
    {
      "cell_type": "code",
      "source": [
        "\n",
        "handle = lt.add_magnet_uri(ses, link, params)\n",
        "ses.start_dht()\n",
        "\n",
        "begin = time.time()\n",
        "print(datetime.datetime.now())\n",
        "\n",
        "print ('Downloading Metadata...')\n",
        "while (not handle.has_metadata()):\n",
        "    time.sleep(1)\n",
        "ses.pause()\n",
        "\n",
        "#printing file name\n",
        "info = handle.get_torrent_info()\n",
        "togglebox = [''] * info.files().num_files()\n",
        "optionbox = [''] * info.files().num_files()\n"
      ],
      "metadata": {
        "id": "VYz3tyCSZ54Z"
      },
      "execution_count": null,
      "outputs": []
    },
    {
      "cell_type": "markdown",
      "source": [
        "### Select the files to download"
      ],
      "metadata": {
        "id": "pMJlcB5Ugna3"
      }
    },
    {
      "cell_type": "code",
      "source": [
        "print(\"Select the files to download\")\n",
        "for x in range(info.files().num_files()):\n",
        "    togglebox[x]=info.files().file_path(x)\n",
        "    optionbox[x]= widgets.Checkbox(value=False,disabled=False,indent=False) \n",
        "    display(optionbox[x],togglebox[x])"
      ],
      "metadata": {
        "id": "AEAQvrPM6Ayq"
      },
      "execution_count": null,
      "outputs": []
    },
    {
      "cell_type": "markdown",
      "source": [
        "### Run the program"
      ],
      "metadata": {
        "id": "s9yl-vcugq3P"
      }
    },
    {
      "cell_type": "code",
      "execution_count": null,
      "metadata": {
        "id": "b09BxnANO2ep"
      },
      "outputs": [],
      "source": [
        "for x in range(info.files().num_files()):\n",
        "  if optionbox[x].value==True:\n",
        "    handle.file_priority(x,1)\n",
        "  else:\n",
        "    handle.file_priority(x,0)\n",
        "ses.resume()\n",
        "print(\"Started Download...\")\n",
        "while (handle.status().state != lt.torrent_status.seeding):\n",
        "    s = handle.status()\n",
        "    state_str = ['queued', 'checking', 'downloading metadata', \\\n",
        "            'downloading', 'finished', 'seeding', 'allocating']\n",
        "    print ('%.2f%% complete (down: %.1f kb/s up: %.1f kB/s peers: %d) %s ' % \\\n",
        "            (s.progress * 100, s.download_rate / 1000, s.upload_rate / 1000, \\\n",
        "            s.num_peers, state_str[s.state]))\n",
        "    if s.progress>=1:\n",
        "        \n",
        "        break;\n",
        "\n",
        "    time.sleep(5)\n",
        "\n",
        "end = time.time()\n",
        "print(\"COMPLETE\",\"/n\",\"check google drive for if files are downloaded or not\")\n",
        "print(\"Elapsed Time: \",int((end-begin)//60),\"min :\", int((end-begin)%60), \"sec\")\n",
        "print(datetime.datetime.now())"
      ]
    }
  ],
  "metadata": {
    "colab": {
      "collapsed_sections": [],
      "name": "Torrent To Google Drive Downloader",
      "provenance": [],
      "private_outputs": true,
      "include_colab_link": true
    },
    "kernelspec": {
      "display_name": "Python 3",
      "name": "python3"
    },
    "accelerator": "GPU"
  },
  "nbformat": 4,
  "nbformat_minor": 0
}