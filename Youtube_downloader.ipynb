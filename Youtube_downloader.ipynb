{
  "cells": [
    {
      "cell_type": "markdown",
      "metadata": {
        "id": "view-in-github",
        "colab_type": "text"
      },
      "source": [
        "<a href=\"https://colab.research.google.com/github/cookieDroid/jollyRancher/blob/main/Youtube_downloader.ipynb\" target=\"_parent\"><img src=\"https://colab.research.google.com/assets/colab-badge.svg\" alt=\"Open In Colab\"/></a>"
      ]
    },
    {
      "cell_type": "code",
      "execution_count": null,
      "metadata": {
        "id": "-tMQbd0T1iW5"
      },
      "outputs": [],
      "source": [
        "!python3 -m pip install -U yt-dlp\n",
        "import os, shutil, glob\n",
        "from google.colab import drive\n",
        "source = \"/content/\"\n",
        "drive.mount('/content/drive/')"
      ]
    },
    {
      "cell_type": "code",
      "execution_count": null,
      "metadata": {
        "id": "HM86j3efAS54"
      },
      "outputs": [],
      "source": [
        "destination = \"/content/drive/Shareddrives/seedbox/Torrent/Kafka\"\n",
        "# Set environment variables\n",
        "os.environ['vdolnk'] = input(\"enter the link : \")\n",
        "!yt-dlp --embed-thumbnail -f 'bv[height =720]+ba' --embed-subs --merge-output-format mp4 $vdolnk -o '%(title)s.mp4'\n",
        "# set  later\n",
        "print(\"Copying file to gdrive\")\n",
        "files = glob.iglob(os.path.join(source, \"*.mp4\"))\n",
        "count = 1\n",
        "for file in files:\n",
        "    if os.path.isfile(file):\n",
        "        shutil.copy2(file, destination)\n",
        "        print(\"uploaded : \", count)\n",
        "        count+=1\n",
        "!rm *mp4"
      ]
    },
    {
      "cell_type": "code",
      "execution_count": null,
      "metadata": {
        "id": "QhbbQ1rJAWAc"
      },
      "outputs": [],
      "source": [
        "drive.flush_and_unmount()\n",
        "!rm -rf *\n",
        "!rm *"
      ]
    }
  ],
  "metadata": {
    "accelerator": "GPU",
    "colab": {
      "collapsed_sections": [],
      "name": "Youtube_downloader.ipynb",
      "provenance": [],
      "private_outputs": true,
      "authorship_tag": "ABX9TyP5xEGQdP5WyX52yb1hFjqp",
      "include_colab_link": true
    },
    "kernelspec": {
      "display_name": "Python 3",
      "name": "python3"
    },
    "language_info": {
      "name": "python"
    }
  },
  "nbformat": 4,
  "nbformat_minor": 0
}